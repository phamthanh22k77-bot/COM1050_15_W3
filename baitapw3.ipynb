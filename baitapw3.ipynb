{
 "cells": [
  {
   "cell_type": "code",
   "execution_count": 1,
   "id": "43a013bb-e3f5-4f3f-ad15-fa73cf15b655",
   "metadata": {},
   "outputs": [
    {
     "name": "stdout",
     "output_type": "stream",
     "text": [
      "hi\n"
     ]
    }
   ],
   "source": [
    "print (\"hi\")"
   ]
  },
  {
   "cell_type": "code",
   "execution_count": 3,
   "id": "c519cc8f-bc28-4188-b25c-8600386fbb82",
   "metadata": {},
   "outputs": [
    {
     "name": "stdout",
     "output_type": "stream",
     "text": [
      "Trước khi hoán đổi\n",
      "a = 2\n",
      "b = 7\n",
      "Sau khi hoán đổi\n",
      "a = 7\n",
      "b = 2\n"
     ]
    }
   ],
   "source": [
    "a = 2 \n",
    "b = 7\n",
    "print (\"Trước khi hoán đổi\")\n",
    "print (\"a =\", a)\n",
    "print (\"b =\", b)\n",
    "# Hoán đổi không sử dụng biến tạm thời\n",
    "a = a ^ b\n",
    "b = a ^ b\n",
    "a = a ^ b\n",
    "print (\"Sau khi hoán đổi\")\n",
    "print (\"a =\", a)\n",
    "print (\"b =\", b)\n"
   ]
  },
  {
   "cell_type": "code",
   "execution_count": 22,
   "id": "52129da6-f1bb-465b-be79-1ca1ebf321bc",
   "metadata": {},
   "outputs": [
    {
     "name": "stdin",
     "output_type": "stream",
     "text": [
      "nhập vào một số = 10\n"
     ]
    },
    {
     "name": "stdout",
     "output_type": "stream",
     "text": [
      "10 không là lũy thừa của 2.\n"
     ]
    }
   ],
   "source": [
    "def motluythuacuahai(n):\n",
    "    return n > 0 and  ((n & (n-1)) == 0)\n",
    "num = int(input(\"nhập vào một số =\"))\n",
    "if motluythuacuahai(num):\n",
    "    print (f\"{num} là lũy thừa của 2.\")\n",
    "else:\n",
    "    print (f\"{num} không là lũy thừa của 2.\")\n",
    "    \n",
    "    \n",
    "    \n"
   ]
  },
  {
   "cell_type": "code",
   "execution_count": 28,
   "id": "e960dda0-e4de-4ed8-9784-bd3441565269",
   "metadata": {},
   "outputs": [
    {
     "name": "stdin",
     "output_type": "stream",
     "text": [
      "Nhập một số m = 7\n",
      "Nhập một số n = 3\n"
     ]
    },
    {
     "name": "stdout",
     "output_type": "stream",
     "text": [
      " 7 chia cho 3 kết quả làm xuống = 2\n"
     ]
    }
   ],
   "source": [
    "m = int(input(\"Nhập một số m =\"))\n",
    "n = int(input(\"Nhập một số n =\"))\n",
    "if n == 0:\n",
    "    print (\"Lỗi: không thể thực hiện\")\n",
    "else:\n",
    "    # phép chia hết //\n",
    "    result = m // n\n",
    "    print (f\" {m} chia cho {n} kết quả làm xuống = {result}\")\n",
    "\n",
    "\n"
   ]
  },
  {
   "cell_type": "code",
   "execution_count": 31,
   "id": "ebad27a8-0a20-4016-9a0e-421ee52e8ffd",
   "metadata": {},
   "outputs": [
    {
     "name": "stdin",
     "output_type": "stream",
     "text": [
      "Nhập một số m = 7\n",
      "Nhập một số n = 2\n"
     ]
    },
    {
     "name": "stdout",
     "output_type": "stream",
     "text": [
      " 7 chia cho 2 kết quả làm  lên  = 4\n"
     ]
    }
   ],
   "source": [
    "import math\n",
    "m = int(input(\"Nhập một số m =\"))\n",
    "n = int(input(\"Nhập một số n =\"))\n",
    "if n == 0:\n",
    "    print (\"Lỗi: không thể thực hiện\")\n",
    "else:\n",
    "    # hàm math.ceil(m / n)\n",
    "    result = math.ceil(m /n )\n",
    "    print (f\" {m} chia cho {n} kết quả làm  lên  = {result}\")\n"
   ]
  },
  {
   "cell_type": "code",
   "execution_count": 41,
   "id": "618eefc5-34d7-4e00-a260-2d6e01fbaabd",
   "metadata": {},
   "outputs": [
    {
     "name": "stdin",
     "output_type": "stream",
     "text": [
      "nhập một số nguyên dương x = -1\n"
     ]
    },
    {
     "name": "stdout",
     "output_type": "stream",
     "text": [
      "số nguyên dương cơ mà\n",
      "ODD\n"
     ]
    }
   ],
   "source": [
    "x = int(input(\"nhập một số nguyên dương x =\"))\n",
    "if x <= 0:\n",
    "    print (\"số nguyên dương cơ mà\")\n",
    "if x % 2 == 0:\n",
    "    print (\"EVEN\")\n",
    "else:\n",
    "    print (\"ODD\")"
   ]
  },
  {
   "cell_type": "code",
   "execution_count": 45,
   "id": "edba396f-2919-4c88-ac54-e8178043a97c",
   "metadata": {},
   "outputs": [
    {
     "name": "stdin",
     "output_type": "stream",
     "text": [
      "nhập một số nguyên a = -1\n",
      "nhập một số nguyên b = -1\n"
     ]
    },
    {
     "name": "stdout",
     "output_type": "stream",
     "text": [
      "YES\n"
     ]
    }
   ],
   "source": [
    "a = int(input(\"nhập một số nguyên a =\"))\n",
    "b = int(input(\"nhập một số nguyên b =\"))\n",
    "if a < 0 and b < 0:\n",
    "    print (\"YES\")\n",
    "else:\n",
    "    print (\"NO\")\n",
    "    "
   ]
  },
  {
   "cell_type": "code",
   "execution_count": 47,
   "id": "c9b42d3a-b262-415f-92a7-4c9c8cfc9765",
   "metadata": {},
   "outputs": [
    {
     "name": "stdin",
     "output_type": "stream",
     "text": [
      "Nhập chuỗi a:  hello\n",
      "Nhập chuỗi b:  hi\n"
     ]
    },
    {
     "name": "stdout",
     "output_type": "stream",
     "text": [
      "True\n"
     ]
    }
   ],
   "source": [
    "a = input(\"Nhập chuỗi a: \")\n",
    "b = input(\"Nhập chuỗi b: \")\n",
    "if len(a) > len(b):\n",
    "    print(\"True\")\n",
    "else:\n",
    "    print(\"False\")"
   ]
  },
  {
   "cell_type": "code",
   "execution_count": 51,
   "id": "221ae4f7-5b2b-4e8c-b6b5-2f48f6534953",
   "metadata": {},
   "outputs": [
    {
     "name": "stdin",
     "output_type": "stream",
     "text": [
      "Nhập vào một số a= 4\n",
      "Nhập vào một số b= 3\n",
      "Nhập vào một số c= 1\n"
     ]
    },
    {
     "name": "stdout",
     "output_type": "stream",
     "text": [
      "NO\n"
     ]
    }
   ],
   "source": [
    "a = int(input(\"Nhập vào một số a=\"))\n",
    "b = int(input(\"Nhập vào một số b=\"))\n",
    "c = int(input(\"Nhập vào một số c=\"))\n",
    "if if a > 0 and b > 0 and c > 0 and (a + b > c) and (a + c > b) and (b + c > a):\n",
    "    print (\"YES\")\n",
    "else:\n",
    "    print (\"NO\")\n"
   ]
  },
  {
   "cell_type": "code",
   "execution_count": 53,
   "id": "22b1f4f6-77e6-4d81-972b-af2b43f62d8f",
   "metadata": {},
   "outputs": [
    {
     "name": "stdin",
     "output_type": "stream",
     "text": [
      "Nhập số thứ nhất:  1\n",
      "Nhập số thứ hai:  2\n",
      "Nhập số thứ ba:  3\n",
      "Nhập số thứ tư:  4\n"
     ]
    },
    {
     "name": "stdout",
     "output_type": "stream",
     "text": [
      "Số lớn nhất là: 4\n"
     ]
    }
   ],
   "source": [
    "a = int(input(\"Nhập số thứ nhất: \"))\n",
    "b = int(input(\"Nhập số thứ hai: \"))\n",
    "c = int(input(\"Nhập số thứ ba: \"))\n",
    "d = int(input(\"Nhập số thứ tư: \"))\n",
    "\n",
    "# hàm max\n",
    "max_num = max(a, b, c, d)\n",
    "\n",
    "print(f\"Số lớn nhất là: {max_num}\")"
   ]
  },
  {
   "cell_type": "code",
   "execution_count": 60,
   "id": "aa5376f6-b23d-4b5e-8c31-1757df592268",
   "metadata": {},
   "outputs": [
    {
     "name": "stdin",
     "output_type": "stream",
     "text": [
      "Nhập cạnh a= 3\n",
      "Nhập cạnh b= 3\n",
      "Nhập cạnh c= 3\n"
     ]
    },
    {
     "name": "stdout",
     "output_type": "stream",
     "text": [
      "Tam giác đều\n"
     ]
    }
   ],
   "source": [
    "a = int(input(\"Nhập cạnh a=\"))\n",
    "b = int(input(\"Nhập cạnh b=\"))\n",
    "c = int(input(\"Nhập cạnh c=\"))\n",
    "if a <= 0 or b <= 0 or c <= 0 or (a + b <= c) or (a + c <= b) or (b + c <= a):\n",
    "    print (\"Không phải tam giác\")\n",
    "else:\n",
    "    if a == b == c:\n",
    "        print (\"Tam giác đều\")\n",
    "    elif a == b or b == c or a == c:\n",
    "        print(\"Tam giác cân\")\n",
    "    else:\n",
    "        print(\"Tam giác thường\")\n"
   ]
  },
  {
   "cell_type": "code",
   "execution_count": 61,
   "id": "62a2c371-5443-4f55-8f2c-07ec71118922",
   "metadata": {},
   "outputs": [
    {
     "name": "stdin",
     "output_type": "stream",
     "text": [
      "Nhập vào năm:  2026\n"
     ]
    },
    {
     "name": "stdout",
     "output_type": "stream",
     "text": [
      "No\n"
     ]
    }
   ],
   "source": [
    "n = int(input(\"Nhập vào năm: \")) # n là số năm\n",
    "if n <= 0:\n",
    "    print(\"Vui lòng nhập số nguyên dương!\")\n",
    "elif (n % 4 == 0 and n % 100 != 0) or (n % 400 == 0):\n",
    "    print(\"Yes\")  # Là năm nhuận\n",
    "else:\n",
    "    print(\"No\")   # Không phải năm nhuận"
   ]
  },
  {
   "cell_type": "code",
   "execution_count": 62,
   "id": "d8176ec7-6858-4a3a-93eb-44361424f272",
   "metadata": {},
   "outputs": [
    {
     "name": "stdin",
     "output_type": "stream",
     "text": [
      "Nhập hệ số a:  2\n",
      "Nhập hệ số b:  2\n"
     ]
    },
    {
     "name": "stdout",
     "output_type": "stream",
     "text": [
      "Nghiệm của phương trình là: x = -1.0\n"
     ]
    }
   ],
   "source": [
    "a = float(input(\"Nhập hệ số a: \"))\n",
    "b = float(input(\"Nhập hệ số b: \"))\n",
    "if a == 0:\n",
    "    if b == 0:\n",
    "        print(\"Vô số nghiệm\")\n",
    "    else:\n",
    "        print(\"Vô nghiệm\")\n",
    "else:\n",
    "    x = -b / a\n",
    "    x = round(x, 2)  # Làm tròn đến 2 chữ số thập phân\n",
    "    print(f\"Nghiệm của phương trình là: x = {x}\")"
   ]
  },
  {
   "cell_type": "code",
   "execution_count": 67,
   "id": "c07cf900-a656-4286-b4e7-4b3e3f8a03d1",
   "metadata": {},
   "outputs": [
    {
     "name": "stdin",
     "output_type": "stream",
     "text": [
      "Điểm TB của bạn = 5.1\n"
     ]
    },
    {
     "name": "stdout",
     "output_type": "stream",
     "text": [
      "Trung Bình\n"
     ]
    }
   ],
   "source": [
    "#W3A15\n",
    "diem = float(input(\"Điểm TB của bạn =\"))\n",
    "if diem >= 8.0:\n",
    "    print (\"Giỏi\")\n",
    "elif 6.5 <= diem < 8.0:\n",
    "    print (\"Khá\")\n",
    "elif 5.0 <= diem < 6.5:\n",
    "    print (\"Trung Bình\")\n",
    "else:\n",
    "    print (\"Yếu\")\n",
    "          "
   ]
  },
  {
   "cell_type": "code",
   "execution_count": 70,
   "id": "62d78459-4674-43f3-bbe3-f0f160f3cf77",
   "metadata": {},
   "outputs": [
    {
     "name": "stdin",
     "output_type": "stream",
     "text": [
      "Nhập vào một số thực:  4.2\n"
     ]
    },
    {
     "name": "stdout",
     "output_type": "stream",
     "text": [
      "5 4 4\n"
     ]
    }
   ],
   "source": [
    "#W3A16\n",
    "so = float(input(\"Nhập số thực: \"))\n",
    "nguyen = int(so)\n",
    "lam_tron_xuong = nguyen\n",
    "if so > nguyen:\n",
    "    lam_tron_len = nguyen + 1\n",
    "else:\n",
    "    lam_tron_len = nguyen\n",
    "phan_thap_phan = so - nguyen\n",
    "if phan_thap_phan >= 0.5:\n",
    "    lam_tron_gan_nhat = nguyen + 1\n",
    "else:\n",
    "    lam_tron_gan_nhat = nguyen\n",
    "print(lam_tron_len, lam_tron_xuong, lam_tron_gan_nhat)"
   ]
  },
  {
   "cell_type": "code",
   "execution_count": 78,
   "id": "f32daf95-4dd1-4568-ad30-45b82d3b2413",
   "metadata": {},
   "outputs": [
    {
     "name": "stdin",
     "output_type": "stream",
     "text": [
      "Nhập số a:  3\n",
      "Nhập số b:  3\n",
      "Nhập số c:  3\n",
      "Nhập số d:  3\n"
     ]
    },
    {
     "name": "stdout",
     "output_type": "stream",
     "text": [
      "Yes\n"
     ]
    }
   ],
   "source": [
    "#W3A17\n",
    "a = int(input(\"Nhập số a: \"))\n",
    "b = int(input(\"Nhập số b: \"))\n",
    "c = int(input(\"Nhập số c: \"))\n",
    "d = int(input(\"Nhập số d: \"))\n",
    "\n",
    "# Kiểm tra điều kiện chia được và công bội là số nguyên\n",
    "if a == 0 or b % a != 0:\n",
    "    print(\"No\")  # Không thể tìm được công bội nguyên hợp lệ\n",
    "else:\n",
    "    q = b // a  # Công bội\n",
    "\n",
    "    # Kiểm tra cấp số nhân: b = a*q, c = b*q, d = c*q\n",
    "    if b == a * q and c == b * q and d == c * q:\n",
    "        print(\"Yes\")\n",
    "    else:\n",
    "        print(\"No\")"
   ]
  },
  {
   "cell_type": "code",
   "execution_count": 79,
   "id": "949c11ea-5dd1-4029-bc46-f9ca106f88f0",
   "metadata": {},
   "outputs": [
    {
     "name": "stdout",
     "output_type": "stream",
     "text": [
      "Thankkiu\n"
     ]
    }
   ],
   "source": [
    "print (\"Thankkiu\")\n"
   ]
  },
  {
   "cell_type": "code",
   "execution_count": null,
   "id": "6b3f0c74-31bc-42e7-ab78-c69bcec20f2c",
   "metadata": {},
   "outputs": [],
   "source": []
  }
 ],
 "metadata": {
  "kernelspec": {
   "display_name": "Python 3 (ipykernel)",
   "language": "python",
   "name": "python3"
  },
  "language_info": {
   "codemirror_mode": {
    "name": "ipython",
    "version": 3
   },
   "file_extension": ".py",
   "mimetype": "text/x-python",
   "name": "python",
   "nbconvert_exporter": "python",
   "pygments_lexer": "ipython3",
   "version": "3.13.5"
  }
 },
 "nbformat": 4,
 "nbformat_minor": 5
}
